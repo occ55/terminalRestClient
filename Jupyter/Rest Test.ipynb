{
 "cells": [
  {
   "cell_type": "code",
   "execution_count": 8,
   "metadata": {
    "scrolled": true
   },
   "outputs": [
    {
     "data": {
      "text/plain": [
       "{}"
      ]
     },
     "execution_count": 8,
     "metadata": {},
     "output_type": "execute_result"
    }
   ],
   "source": [
    "require(\"..\")"
   ]
  },
  {
   "cell_type": "code",
   "execution_count": 11,
   "metadata": {},
   "outputs": [
    {
     "name": "stdout",
     "output_type": "stream",
     "text": [
      "HttpResults {\n",
      "  _events: [Object: null prototype] { error: [ [Function], [Function] ] },\n",
      "  _eventsCount: 1,\n",
      "  _maxListeners: undefined,\n",
      "  _completeResolve: [Function],\n",
      "  complete: Promise { <pending> },\n",
      "  _endedResolve: [Function],\n",
      "  ended: Promise { <pending> },\n",
      "  isCompleted: false,\n",
      "  responseFolder: '/home/onurcan/Code/terminalRestClient/Workspaces/Test/LocalBin/Out/2019-08-20T16:17:18.314Z',\n",
      "  clientRequest: ClientRequest {\n",
      "    _events: [Object: null prototype] {\n",
      "      response: [Function],\n",
      "      socket: [Function],\n",
      "      unpipe: [Function: onunpipe],\n",
      "      drain: [Function: pipeOnDrainFunctionResult],\n",
      "      error: [Array],\n",
      "      close: [Function],\n",
      "      finish: [Function]\n",
      "    },\n",
      "    _eventsCount: 7,\n",
      "    _maxListeners: undefined,\n",
      "    outputData: [],\n",
      "    outputSize: 0,\n",
      "    writable: true,\n",
      "    _last: true,\n",
      "    chunkedEncoding: false,\n",
      "    shouldKeepAlive: false,\n",
      "    useChunkedEncodingByDefault: true,\n",
      "    sendDate: false,\n",
      "    _removedConnection: false,\n",
      "    _removedContLen: false,\n",
      "    _removedTE: false,\n",
      "    _contentLength: null,\n",
      "    _hasBody: true,\n",
      "    _trailer: '',\n",
      "    finished: false,\n",
      "    _headerSent: false,\n",
      "    socket: null,\n",
      "    connection: null,\n",
      "    _header: null,\n",
      "    _onPendingData: [Function: noopPendingOutput],\n",
      "    agent: Agent {\n",
      "      _events: [Object: null prototype],\n",
      "      _eventsCount: 1,\n",
      "      _maxListeners: undefined,\n",
      "      defaultPort: 80,\n",
      "      protocol: 'http:',\n",
      "      options: [Object],\n",
      "      requests: {},\n",
      "      sockets: [Object],\n",
      "      freeSockets: {},\n",
      "      keepAliveMsecs: 1000,\n",
      "      keepAlive: false,\n",
      "      maxSockets: Infinity,\n",
      "      maxFreeSockets: 256\n",
      "    },\n",
      "    socketPath: undefined,\n",
      "    method: 'POST',\n",
      "    path: '/get?b=2',\n",
      "    _ended: false,\n",
      "    res: null,\n",
      "    aborted: false,\n",
      "    timeoutCb: null,\n",
      "    upgradeOrConnect: false,\n",
      "    parser: null,\n",
      "    maxHeadersCount: null,\n",
      "    [Symbol(isCorked)]: false,\n",
      "    [Symbol(outHeadersKey)]: [Object: null prototype] {\n",
      "      'content-length': [Array],\n",
      "      'content-type': [Array],\n",
      "      host: [Array]\n",
      "    }\n",
      "  },\n",
      "  response: Promise { <pending> },\n",
      "  builtRequest: {\n",
      "    context: { t1: 1, override: 1 },\n",
      "    identifier: 'default',\n",
      "    node: {\n",
      "      path: '/home/onurcan/Code/terminalRestClient/Workspaces/Test/LocalBin',\n",
      "      parent: [Object],\n",
      "      children: [],\n",
      "      resources: [Object],\n",
      "      contextModuleMap: {}\n",
      "    },\n",
      "    body: {\n",
      "      type: 'binary',\n",
      "      path: '/home/onurcan/Code/terminalRestClient/Workspaces/Test/LocalBin/request.js'\n",
      "    },\n",
      "    header: {\n",
      "      'Content-Length': 324,\n",
      "      'Content-Type': 'application/octet-stream'\n",
      "    },\n",
      "    query: { b: 2 },\n",
      "    request: {\n",
      "      lib: 'node',\n",
      "      url: 'http://localhost:3000/get',\n",
      "      method: 'POST',\n",
      "      sendBody: true,\n",
      "      body: [FileStruct],\n",
      "      query: [Object],\n",
      "      bodyType: 'binary'\n",
      "    },\n",
      "    requestRes: {\n",
      "      fileName: 'request.js',\n",
      "      path: '/home/onurcan/Code/terminalRestClient/Workspaces/Test/LocalBin/request.js',\n",
      "      type: 'js',\n",
      "      resourceType: 'request',\n",
      "      idendifier: 'default',\n",
      "      uniqueName: '',\n",
      "      module: [Object]\n",
      "    },\n",
      "    requestModule: {\n",
      "      Properties: [Object],\n",
      "      ID: 'req_3bd6934e7b0b4d219045f8f7f2e4dc21'\n",
      "    },\n",
      "    directory: '/home/onurcan/Code/terminalRestClient/Workspaces/Test/LocalBin'\n",
      "  },\n",
      "  startTime: 2019-08-20T16:17:18.314Z,\n",
      "  sentRequestOptions: {\n",
      "    headers: {\n",
      "      'Content-Length': 324,\n",
      "      'Content-Type': 'application/octet-stream'\n",
      "    },\n",
      "    hostname: 'localhost',\n",
      "    method: 'POST',\n",
      "    port: '3000',\n",
      "    path: '/get?b=2'\n",
      "  }\n",
      "}\n"
     ]
    }
   ],
   "source": [
    "(async () => {\n",
    "    let result = await send($.LocalBin);\n",
    "    console.log(result)\n",
    "})();"
   ]
  },
  {
   "cell_type": "code",
   "execution_count": null,
   "metadata": {},
   "outputs": [],
   "source": []
  }
 ],
 "metadata": {
  "kernelspec": {
   "display_name": "Javascript (Node.js)",
   "language": "javascript",
   "name": "javascript"
  },
  "language_info": {
   "file_extension": ".js",
   "mimetype": "application/javascript",
   "name": "javascript",
   "version": "12.8.0"
  },
  "varInspector": {
   "cols": {
    "lenName": 16,
    "lenType": 16,
    "lenVar": 40
   },
   "kernels_config": {
    "python": {
     "delete_cmd_postfix": "",
     "delete_cmd_prefix": "del ",
     "library": "var_list.py",
     "varRefreshCmd": "print(var_dic_list())"
    },
    "r": {
     "delete_cmd_postfix": ") ",
     "delete_cmd_prefix": "rm(",
     "library": "var_list.r",
     "varRefreshCmd": "cat(var_dic_list()) "
    }
   },
   "types_to_exclude": [
    "module",
    "function",
    "builtin_function_or_method",
    "instance",
    "_Feature"
   ],
   "window_display": false
  }
 },
 "nbformat": 4,
 "nbformat_minor": 2
}
