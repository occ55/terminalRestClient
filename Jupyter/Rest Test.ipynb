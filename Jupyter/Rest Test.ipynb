{
 "cells": [
  {
   "cell_type": "code",
   "execution_count": 6,
   "metadata": {
    "scrolled": true
   },
   "outputs": [
    {
     "name": "stdout",
     "output_type": "stream",
     "text": [
      "[ '.git',\n",
      "  '.gitignore',\n",
      "  '.idea',\n",
      "  '.prettierrc',\n",
      "  'Dist',\n",
      "  'Jupyter',\n",
      "  'LICENSE',\n",
      "  'README.md',\n",
      "  'Source',\n",
      "  'TestServer',\n",
      "  'Workspaces',\n",
      "  'node_modules',\n",
      "  'package-lock.json',\n",
      "  'package.json',\n",
      "  'tsconfig.json',\n",
      "  'tslint.json',\n",
      "  'yarn.lock' ]\n"
     ]
    }
   ],
   "source": [
    "fs = require(\"fs\")\n",
    "console.log(fs.readdirSync(\"..\"))"
   ]
  },
  {
   "cell_type": "code",
   "execution_count": 10,
   "metadata": {},
   "outputs": [
    {
     "ename": "Error",
     "evalue": "Cannot find module 'Utils/Wait'",
     "output_type": "error",
     "traceback": [
      "internal/modules/cjs/loader.js:670",
      "    throw err;",
      "    ^",
      "",
      "Error: Cannot find module 'Utils/Wait'",
      "    at Function.Module._resolveFilename (internal/modules/cjs/loader.js:668:15)",
      "    at Function.Module._load (internal/modules/cjs/loader.js:591:27)",
      "    at Module.require (internal/modules/cjs/loader.js:723:19)",
      "    at require (internal/modules/cjs/helpers.js:14:16)",
      "    at Object.<anonymous> (/home/onurcan/Code/terminalRestClient/Dist/Main.js:4:16)",
      "    at Module._compile (internal/modules/cjs/loader.js:816:30)",
      "    at Object.Module._extensions..js (internal/modules/cjs/loader.js:827:10)",
      "    at Module.load (internal/modules/cjs/loader.js:685:32)",
      "    at Function.Module._load (internal/modules/cjs/loader.js:620:12)",
      "    at Module.require (internal/modules/cjs/loader.js:723:19)"
     ]
    }
   ],
   "source": [
    "delete require.cache[require.resolve(\"..\")];\n",
    "require(\"..\")"
   ]
  },
  {
   "cell_type": "code",
   "execution_count": null,
   "metadata": {},
   "outputs": [],
   "source": []
  },
  {
   "cell_type": "code",
   "execution_count": null,
   "metadata": {},
   "outputs": [],
   "source": []
  }
 ],
 "metadata": {
  "kernelspec": {
   "display_name": "Javascript (Node.js)",
   "language": "javascript",
   "name": "javascript"
  },
  "language_info": {
   "file_extension": ".js",
   "mimetype": "application/javascript",
   "name": "javascript",
   "version": "11.15.0"
  }
 },
 "nbformat": 4,
 "nbformat_minor": 2
}
